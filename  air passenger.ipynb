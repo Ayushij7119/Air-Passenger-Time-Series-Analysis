{
 "cells": [
  {
   "cell_type": "markdown",
   "metadata": {},
   "source": [
    "# Air Passenger Time Series Analysis"
   ]
  },
  {
   "cell_type": "code",
   "execution_count": 1,
   "metadata": {
    "execution": {
     "iopub.execute_input": "2022-04-24T09:45:07.209985Z",
     "iopub.status.busy": "2022-04-24T09:45:07.209505Z",
     "iopub.status.idle": "2022-04-24T09:45:08.677596Z",
     "shell.execute_reply": "2022-04-24T09:45:08.676220Z",
     "shell.execute_reply.started": "2022-04-24T09:45:07.209883Z"
    }
   },
   "outputs": [],
   "source": [
    "import pandas as pd\n",
    "import numpy as np\n",
    "import matplotlib.pyplot as plt\n",
    "%matplotlib inline\n",
    "import seaborn as sns"
   ]
  },
  {
   "cell_type": "code",
   "execution_count": 2,
   "metadata": {
    "execution": {
     "iopub.execute_input": "2022-04-24T09:45:08.680103Z",
     "iopub.status.busy": "2022-04-24T09:45:08.679807Z",
     "iopub.status.idle": "2022-04-24T09:45:08.716935Z",
     "shell.execute_reply": "2022-04-24T09:45:08.716033Z",
     "shell.execute_reply.started": "2022-04-24T09:45:08.680071Z"
    }
   },
   "outputs": [
    {
     "data": {
      "text/html": [
       "<div>\n",
       "<style scoped>\n",
       "    .dataframe tbody tr th:only-of-type {\n",
       "        vertical-align: middle;\n",
       "    }\n",
       "\n",
       "    .dataframe tbody tr th {\n",
       "        vertical-align: top;\n",
       "    }\n",
       "\n",
       "    .dataframe thead th {\n",
       "        text-align: right;\n",
       "    }\n",
       "</style>\n",
       "<table border=\"1\" class=\"dataframe\">\n",
       "  <thead>\n",
       "    <tr style=\"text-align: right;\">\n",
       "      <th></th>\n",
       "      <th>Month</th>\n",
       "      <th>#Passengers</th>\n",
       "    </tr>\n",
       "  </thead>\n",
       "  <tbody>\n",
       "    <tr>\n",
       "      <th>0</th>\n",
       "      <td>1949-01</td>\n",
       "      <td>112</td>\n",
       "    </tr>\n",
       "    <tr>\n",
       "      <th>1</th>\n",
       "      <td>1949-02</td>\n",
       "      <td>118</td>\n",
       "    </tr>\n",
       "    <tr>\n",
       "      <th>2</th>\n",
       "      <td>1949-03</td>\n",
       "      <td>132</td>\n",
       "    </tr>\n",
       "    <tr>\n",
       "      <th>3</th>\n",
       "      <td>1949-04</td>\n",
       "      <td>129</td>\n",
       "    </tr>\n",
       "    <tr>\n",
       "      <th>4</th>\n",
       "      <td>1949-05</td>\n",
       "      <td>121</td>\n",
       "    </tr>\n",
       "  </tbody>\n",
       "</table>\n",
       "</div>"
      ],
      "text/plain": [
       "     Month  #Passengers\n",
       "0  1949-01          112\n",
       "1  1949-02          118\n",
       "2  1949-03          132\n",
       "3  1949-04          129\n",
       "4  1949-05          121"
      ]
     },
     "execution_count": 2,
     "metadata": {},
     "output_type": "execute_result"
    }
   ],
   "source": [
    "df=pd.read_csv(r\"C:\\Users\\dell\\Downloads\\AirPassengers.csv\")\n",
    "df.head()"
   ]
  },
  {
   "cell_type": "code",
   "execution_count": 3,
   "metadata": {},
   "outputs": [
    {
     "data": {
      "text/html": [
       "<div>\n",
       "<style scoped>\n",
       "    .dataframe tbody tr th:only-of-type {\n",
       "        vertical-align: middle;\n",
       "    }\n",
       "\n",
       "    .dataframe tbody tr th {\n",
       "        vertical-align: top;\n",
       "    }\n",
       "\n",
       "    .dataframe thead th {\n",
       "        text-align: right;\n",
       "    }\n",
       "</style>\n",
       "<table border=\"1\" class=\"dataframe\">\n",
       "  <thead>\n",
       "    <tr style=\"text-align: right;\">\n",
       "      <th></th>\n",
       "      <th>#Passengers</th>\n",
       "    </tr>\n",
       "  </thead>\n",
       "  <tbody>\n",
       "    <tr>\n",
       "      <th>count</th>\n",
       "      <td>144.000000</td>\n",
       "    </tr>\n",
       "    <tr>\n",
       "      <th>mean</th>\n",
       "      <td>280.298611</td>\n",
       "    </tr>\n",
       "    <tr>\n",
       "      <th>std</th>\n",
       "      <td>119.966317</td>\n",
       "    </tr>\n",
       "    <tr>\n",
       "      <th>min</th>\n",
       "      <td>104.000000</td>\n",
       "    </tr>\n",
       "    <tr>\n",
       "      <th>25%</th>\n",
       "      <td>180.000000</td>\n",
       "    </tr>\n",
       "    <tr>\n",
       "      <th>50%</th>\n",
       "      <td>265.500000</td>\n",
       "    </tr>\n",
       "    <tr>\n",
       "      <th>75%</th>\n",
       "      <td>360.500000</td>\n",
       "    </tr>\n",
       "    <tr>\n",
       "      <th>max</th>\n",
       "      <td>622.000000</td>\n",
       "    </tr>\n",
       "  </tbody>\n",
       "</table>\n",
       "</div>"
      ],
      "text/plain": [
       "       #Passengers\n",
       "count   144.000000\n",
       "mean    280.298611\n",
       "std     119.966317\n",
       "min     104.000000\n",
       "25%     180.000000\n",
       "50%     265.500000\n",
       "75%     360.500000\n",
       "max     622.000000"
      ]
     },
     "execution_count": 3,
     "metadata": {},
     "output_type": "execute_result"
    }
   ],
   "source": [
    "df.describe()"
   ]
  },
  {
   "cell_type": "code",
   "execution_count": 4,
   "metadata": {
    "execution": {
     "iopub.execute_input": "2022-04-24T09:45:08.719356Z",
     "iopub.status.busy": "2022-04-24T09:45:08.718433Z",
     "iopub.status.idle": "2022-04-24T09:45:08.733250Z",
     "shell.execute_reply": "2022-04-24T09:45:08.732402Z",
     "shell.execute_reply.started": "2022-04-24T09:45:08.719305Z"
    }
   },
   "outputs": [
    {
     "data": {
      "text/plain": [
       "Month          144\n",
       "#Passengers    118\n",
       "dtype: int64"
      ]
     },
     "execution_count": 4,
     "metadata": {},
     "output_type": "execute_result"
    }
   ],
   "source": [
    "df.nunique()"
   ]
  },
  {
   "cell_type": "code",
   "execution_count": 5,
   "metadata": {
    "execution": {
     "iopub.execute_input": "2022-04-24T09:45:08.736624Z",
     "iopub.status.busy": "2022-04-24T09:45:08.735383Z",
     "iopub.status.idle": "2022-04-24T09:45:08.771727Z",
     "shell.execute_reply": "2022-04-24T09:45:08.770810Z",
     "shell.execute_reply.started": "2022-04-24T09:45:08.736568Z"
    }
   },
   "outputs": [
    {
     "data": {
      "text/html": [
       "<div>\n",
       "<style scoped>\n",
       "    .dataframe tbody tr th:only-of-type {\n",
       "        vertical-align: middle;\n",
       "    }\n",
       "\n",
       "    .dataframe tbody tr th {\n",
       "        vertical-align: top;\n",
       "    }\n",
       "\n",
       "    .dataframe thead th {\n",
       "        text-align: right;\n",
       "    }\n",
       "</style>\n",
       "<table border=\"1\" class=\"dataframe\">\n",
       "  <thead>\n",
       "    <tr style=\"text-align: right;\">\n",
       "      <th></th>\n",
       "      <th>#Passengers</th>\n",
       "    </tr>\n",
       "  </thead>\n",
       "  <tbody>\n",
       "    <tr>\n",
       "      <th>count</th>\n",
       "      <td>144.000000</td>\n",
       "    </tr>\n",
       "    <tr>\n",
       "      <th>mean</th>\n",
       "      <td>280.298611</td>\n",
       "    </tr>\n",
       "    <tr>\n",
       "      <th>std</th>\n",
       "      <td>119.966317</td>\n",
       "    </tr>\n",
       "    <tr>\n",
       "      <th>min</th>\n",
       "      <td>104.000000</td>\n",
       "    </tr>\n",
       "    <tr>\n",
       "      <th>25%</th>\n",
       "      <td>180.000000</td>\n",
       "    </tr>\n",
       "    <tr>\n",
       "      <th>50%</th>\n",
       "      <td>265.500000</td>\n",
       "    </tr>\n",
       "    <tr>\n",
       "      <th>75%</th>\n",
       "      <td>360.500000</td>\n",
       "    </tr>\n",
       "    <tr>\n",
       "      <th>max</th>\n",
       "      <td>622.000000</td>\n",
       "    </tr>\n",
       "  </tbody>\n",
       "</table>\n",
       "</div>"
      ],
      "text/plain": [
       "       #Passengers\n",
       "count   144.000000\n",
       "mean    280.298611\n",
       "std     119.966317\n",
       "min     104.000000\n",
       "25%     180.000000\n",
       "50%     265.500000\n",
       "75%     360.500000\n",
       "max     622.000000"
      ]
     },
     "execution_count": 5,
     "metadata": {},
     "output_type": "execute_result"
    }
   ],
   "source": [
    "df.describe()"
   ]
  },
  {
   "cell_type": "code",
   "execution_count": 6,
   "metadata": {
    "execution": {
     "iopub.execute_input": "2022-04-24T09:45:08.774059Z",
     "iopub.status.busy": "2022-04-24T09:45:08.773538Z",
     "iopub.status.idle": "2022-04-24T09:45:08.784217Z",
     "shell.execute_reply": "2022-04-24T09:45:08.783163Z",
     "shell.execute_reply.started": "2022-04-24T09:45:08.774022Z"
    }
   },
   "outputs": [
    {
     "data": {
      "text/html": [
       "<div>\n",
       "<style scoped>\n",
       "    .dataframe tbody tr th:only-of-type {\n",
       "        vertical-align: middle;\n",
       "    }\n",
       "\n",
       "    .dataframe tbody tr th {\n",
       "        vertical-align: top;\n",
       "    }\n",
       "\n",
       "    .dataframe thead th {\n",
       "        text-align: right;\n",
       "    }\n",
       "</style>\n",
       "<table border=\"1\" class=\"dataframe\">\n",
       "  <thead>\n",
       "    <tr style=\"text-align: right;\">\n",
       "      <th></th>\n",
       "      <th>Month</th>\n",
       "      <th>#Passengers</th>\n",
       "    </tr>\n",
       "  </thead>\n",
       "  <tbody>\n",
       "    <tr>\n",
       "      <th>139</th>\n",
       "      <td>1960-08</td>\n",
       "      <td>606</td>\n",
       "    </tr>\n",
       "    <tr>\n",
       "      <th>140</th>\n",
       "      <td>1960-09</td>\n",
       "      <td>508</td>\n",
       "    </tr>\n",
       "    <tr>\n",
       "      <th>141</th>\n",
       "      <td>1960-10</td>\n",
       "      <td>461</td>\n",
       "    </tr>\n",
       "    <tr>\n",
       "      <th>142</th>\n",
       "      <td>1960-11</td>\n",
       "      <td>390</td>\n",
       "    </tr>\n",
       "    <tr>\n",
       "      <th>143</th>\n",
       "      <td>1960-12</td>\n",
       "      <td>432</td>\n",
       "    </tr>\n",
       "  </tbody>\n",
       "</table>\n",
       "</div>"
      ],
      "text/plain": [
       "       Month  #Passengers\n",
       "139  1960-08          606\n",
       "140  1960-09          508\n",
       "141  1960-10          461\n",
       "142  1960-11          390\n",
       "143  1960-12          432"
      ]
     },
     "execution_count": 6,
     "metadata": {},
     "output_type": "execute_result"
    }
   ],
   "source": [
    "df.tail()"
   ]
  },
  {
   "cell_type": "code",
   "execution_count": 7,
   "metadata": {
    "execution": {
     "iopub.execute_input": "2022-04-24T09:45:08.786079Z",
     "iopub.status.busy": "2022-04-24T09:45:08.785800Z",
     "iopub.status.idle": "2022-04-24T09:45:08.812319Z",
     "shell.execute_reply": "2022-04-24T09:45:08.811121Z",
     "shell.execute_reply.started": "2022-04-24T09:45:08.786048Z"
    }
   },
   "outputs": [
    {
     "data": {
      "text/html": [
       "<div>\n",
       "<style scoped>\n",
       "    .dataframe tbody tr th:only-of-type {\n",
       "        vertical-align: middle;\n",
       "    }\n",
       "\n",
       "    .dataframe tbody tr th {\n",
       "        vertical-align: top;\n",
       "    }\n",
       "\n",
       "    .dataframe thead th {\n",
       "        text-align: right;\n",
       "    }\n",
       "</style>\n",
       "<table border=\"1\" class=\"dataframe\">\n",
       "  <thead>\n",
       "    <tr style=\"text-align: right;\">\n",
       "      <th></th>\n",
       "      <th>Month</th>\n",
       "      <th>#Passengers</th>\n",
       "    </tr>\n",
       "  </thead>\n",
       "  <tbody>\n",
       "    <tr>\n",
       "      <th>0</th>\n",
       "      <td>1949-01-01</td>\n",
       "      <td>112</td>\n",
       "    </tr>\n",
       "    <tr>\n",
       "      <th>1</th>\n",
       "      <td>1949-02-01</td>\n",
       "      <td>118</td>\n",
       "    </tr>\n",
       "    <tr>\n",
       "      <th>2</th>\n",
       "      <td>1949-03-01</td>\n",
       "      <td>132</td>\n",
       "    </tr>\n",
       "    <tr>\n",
       "      <th>3</th>\n",
       "      <td>1949-04-01</td>\n",
       "      <td>129</td>\n",
       "    </tr>\n",
       "    <tr>\n",
       "      <th>4</th>\n",
       "      <td>1949-05-01</td>\n",
       "      <td>121</td>\n",
       "    </tr>\n",
       "  </tbody>\n",
       "</table>\n",
       "</div>"
      ],
      "text/plain": [
       "       Month  #Passengers\n",
       "0 1949-01-01          112\n",
       "1 1949-02-01          118\n",
       "2 1949-03-01          132\n",
       "3 1949-04-01          129\n",
       "4 1949-05-01          121"
      ]
     },
     "execution_count": 7,
     "metadata": {},
     "output_type": "execute_result"
    }
   ],
   "source": [
    "df[\"Month\"]=pd.to_datetime(df[\"Month\"])\n",
    "df.head()"
   ]
  },
  {
   "cell_type": "code",
   "execution_count": 8,
   "metadata": {
    "execution": {
     "iopub.execute_input": "2022-04-24T09:45:08.814366Z",
     "iopub.status.busy": "2022-04-24T09:45:08.813727Z",
     "iopub.status.idle": "2022-04-24T09:45:08.828057Z",
     "shell.execute_reply": "2022-04-24T09:45:08.827146Z",
     "shell.execute_reply.started": "2022-04-24T09:45:08.814323Z"
    }
   },
   "outputs": [],
   "source": [
    "df.set_index('Month',inplace=True)"
   ]
  },
  {
   "cell_type": "code",
   "execution_count": 9,
   "metadata": {
    "execution": {
     "iopub.execute_input": "2022-04-24T09:45:08.829886Z",
     "iopub.status.busy": "2022-04-24T09:45:08.829586Z",
     "iopub.status.idle": "2022-04-24T09:45:09.141800Z",
     "shell.execute_reply": "2022-04-24T09:45:09.140925Z",
     "shell.execute_reply.started": "2022-04-24T09:45:08.829846Z"
    }
   },
   "outputs": [
    {
     "data": {
      "text/plain": [
       "<AxesSubplot:xlabel='Month'>"
      ]
     },
     "execution_count": 9,
     "metadata": {},
     "output_type": "execute_result"
    },
    {
     "data": {
      "image/png": "[encoded data removed]",
      "text/plain": [
       "<Figure size 432x288 with 1 Axes>"
      ]
     },
     "metadata": {
      "needs_background": "light"
     },
     "output_type": "display_data"
    }
   ],
   "source": [
    "df.plot()"
   ]
  },
  {
   "cell_type": "code",
   "execution_count": 10,
   "metadata": {
    "execution": {
     "iopub.execute_input": "2022-04-24T09:45:09.144382Z",
     "iopub.status.busy": "2022-04-24T09:45:09.143149Z",
     "iopub.status.idle": "2022-04-24T09:45:09.374224Z",
     "shell.execute_reply": "2022-04-24T09:45:09.373139Z",
     "shell.execute_reply.started": "2022-04-24T09:45:09.144317Z"
    }
   },
   "outputs": [],
   "source": [
    "from statsmodels.tsa.stattools import adfuller"
   ]
  },
  {
   "cell_type": "code",
   "execution_count": 11,
   "metadata": {
    "execution": {
     "iopub.execute_input": "2022-04-24T09:45:09.379343Z",
     "iopub.status.busy": "2022-04-24T09:45:09.379027Z",
     "iopub.status.idle": "2022-04-24T09:45:09.411368Z",
     "shell.execute_reply": "2022-04-24T09:45:09.410584Z",
     "shell.execute_reply.started": "2022-04-24T09:45:09.379310Z"
    }
   },
   "outputs": [],
   "source": [
    "test_result=adfuller(df[\"#Passengers\"])"
   ]
  },
  {
   "cell_type": "code",
   "execution_count": 12,
   "metadata": {
    "execution": {
     "iopub.execute_input": "2022-04-24T09:45:09.412987Z",
     "iopub.status.busy": "2022-04-24T09:45:09.412613Z",
     "iopub.status.idle": "2022-04-24T09:45:09.418456Z",
     "shell.execute_reply": "2022-04-24T09:45:09.417764Z",
     "shell.execute_reply.started": "2022-04-24T09:45:09.412955Z"
    }
   },
   "outputs": [],
   "source": [
    "def adfuller_test(Month):\n",
    "    result=adfuller(Month)\n",
    "    labels=['ADf test statistic','p-value','#lage used','number of observation used']\n",
    "    for value,label in zip(result,labels):\n",
    "        print(label+' : '+str(value) )\n",
    "    if result[1] <= 0.05:\n",
    "        print(\"strong evidence zgainst the null hypothsis(ho), reject the null hypothsis.data has not stationary\")\n",
    "    else:\n",
    "        print(\"weak evidence against numm hypothsis\")\n",
    "        "
   ]
  },
  {
   "cell_type": "code",
   "execution_count": 13,
   "metadata": {
    "execution": {
     "iopub.execute_input": "2022-04-24T09:45:09.420239Z",
     "iopub.status.busy": "2022-04-24T09:45:09.419450Z",
     "iopub.status.idle": "2022-04-24T09:45:09.446014Z",
     "shell.execute_reply": "2022-04-24T09:45:09.444999Z",
     "shell.execute_reply.started": "2022-04-24T09:45:09.420202Z"
    }
   },
   "outputs": [
    {
     "name": "stdout",
     "output_type": "stream",
     "text": [
      "ADf test statistic : 0.8153688792060502\n",
      "p-value : 0.991880243437641\n",
      "#lage used : 13\n",
      "number of observation used : 130\n",
      "weak evidence against numm hypothsis\n"
     ]
    }
   ],
   "source": [
    "adfuller_test(df[\"#Passengers\"])"
   ]
  },
  {
   "cell_type": "code",
   "execution_count": 14,
   "metadata": {
    "execution": {
     "iopub.execute_input": "2022-04-24T09:45:09.447807Z",
     "iopub.status.busy": "2022-04-24T09:45:09.447365Z",
     "iopub.status.idle": "2022-04-24T09:45:09.457746Z",
     "shell.execute_reply": "2022-04-24T09:45:09.456725Z",
     "shell.execute_reply.started": "2022-04-24T09:45:09.447769Z"
    }
   },
   "outputs": [],
   "source": [
    "df['passenger first difference']=df[\"#Passengers\"]-df[\"#Passengers\"].shift(1)"
   ]
  },
  {
   "cell_type": "code",
   "execution_count": 15,
   "metadata": {
    "execution": {
     "iopub.execute_input": "2022-04-24T09:45:09.459421Z",
     "iopub.status.busy": "2022-04-24T09:45:09.459020Z",
     "iopub.status.idle": "2022-04-24T09:45:09.474525Z",
     "shell.execute_reply": "2022-04-24T09:45:09.473707Z",
     "shell.execute_reply.started": "2022-04-24T09:45:09.459383Z"
    }
   },
   "outputs": [],
   "source": [
    "df['seasonal first difference']=df[\"#Passengers\"]-df[\"#Passengers\"].shift(12)"
   ]
  },
  {
   "cell_type": "code",
   "execution_count": 16,
   "metadata": {
    "execution": {
     "iopub.execute_input": "2022-04-24T09:45:09.476135Z",
     "iopub.status.busy": "2022-04-24T09:45:09.475665Z",
     "iopub.status.idle": "2022-04-24T09:45:09.500289Z",
     "shell.execute_reply": "2022-04-24T09:45:09.498832Z",
     "shell.execute_reply.started": "2022-04-24T09:45:09.476019Z"
    }
   },
   "outputs": [
    {
     "data": {
      "text/html": [
       "<div>\n",
       "<style scoped>\n",
       "    .dataframe tbody tr th:only-of-type {\n",
       "        vertical-align: middle;\n",
       "    }\n",
       "\n",
       "    .dataframe tbody tr th {\n",
       "        vertical-align: top;\n",
       "    }\n",
       "\n",
       "    .dataframe thead th {\n",
       "        text-align: right;\n",
       "    }\n",
       "</style>\n",
       "<table border=\"1\" class=\"dataframe\">\n",
       "  <thead>\n",
       "    <tr style=\"text-align: right;\">\n",
       "      <th></th>\n",
       "      <th>#Passengers</th>\n",
       "      <th>passenger first difference</th>\n",
       "      <th>seasonal first difference</th>\n",
       "    </tr>\n",
       "    <tr>\n",
       "      <th>Month</th>\n",
       "      <th></th>\n",
       "      <th></th>\n",
       "      <th></th>\n",
       "    </tr>\n",
       "  </thead>\n",
       "  <tbody>\n",
       "    <tr>\n",
       "      <th>1949-01-01</th>\n",
       "      <td>112</td>\n",
       "      <td>NaN</td>\n",
       "      <td>NaN</td>\n",
       "    </tr>\n",
       "    <tr>\n",
       "      <th>1949-02-01</th>\n",
       "      <td>118</td>\n",
       "      <td>6.0</td>\n",
       "      <td>NaN</td>\n",
       "    </tr>\n",
       "    <tr>\n",
       "      <th>1949-03-01</th>\n",
       "      <td>132</td>\n",
       "      <td>14.0</td>\n",
       "      <td>NaN</td>\n",
       "    </tr>\n",
       "    <tr>\n",
       "      <th>1949-04-01</th>\n",
       "      <td>129</td>\n",
       "      <td>-3.0</td>\n",
       "      <td>NaN</td>\n",
       "    </tr>\n",
       "    <tr>\n",
       "      <th>1949-05-01</th>\n",
       "      <td>121</td>\n",
       "      <td>-8.0</td>\n",
       "      <td>NaN</td>\n",
       "    </tr>\n",
       "    <tr>\n",
       "      <th>1949-06-01</th>\n",
       "      <td>135</td>\n",
       "      <td>14.0</td>\n",
       "      <td>NaN</td>\n",
       "    </tr>\n",
       "    <tr>\n",
       "      <th>1949-07-01</th>\n",
       "      <td>148</td>\n",
       "      <td>13.0</td>\n",
       "      <td>NaN</td>\n",
       "    </tr>\n",
       "    <tr>\n",
       "      <th>1949-08-01</th>\n",
       "      <td>148</td>\n",
       "      <td>0.0</td>\n",
       "      <td>NaN</td>\n",
       "    </tr>\n",
       "    <tr>\n",
       "      <th>1949-09-01</th>\n",
       "      <td>136</td>\n",
       "      <td>-12.0</td>\n",
       "      <td>NaN</td>\n",
       "    </tr>\n",
       "    <tr>\n",
       "      <th>1949-10-01</th>\n",
       "      <td>119</td>\n",
       "      <td>-17.0</td>\n",
       "      <td>NaN</td>\n",
       "    </tr>\n",
       "    <tr>\n",
       "      <th>1949-11-01</th>\n",
       "      <td>104</td>\n",
       "      <td>-15.0</td>\n",
       "      <td>NaN</td>\n",
       "    </tr>\n",
       "    <tr>\n",
       "      <th>1949-12-01</th>\n",
       "      <td>118</td>\n",
       "      <td>14.0</td>\n",
       "      <td>NaN</td>\n",
       "    </tr>\n",
       "    <tr>\n",
       "      <th>1950-01-01</th>\n",
       "      <td>115</td>\n",
       "      <td>-3.0</td>\n",
       "      <td>3.0</td>\n",
       "    </tr>\n",
       "    <tr>\n",
       "      <th>1950-02-01</th>\n",
       "      <td>126</td>\n",
       "      <td>11.0</td>\n",
       "      <td>8.0</td>\n",
       "    </tr>\n",
       "  </tbody>\n",
       "</table>\n",
       "</div>"
      ],
      "text/plain": [
       "            #Passengers  passenger first difference  seasonal first difference\n",
       "Month                                                                         \n",
       "1949-01-01          112                         NaN                        NaN\n",
       "1949-02-01          118                         6.0                        NaN\n",
       "1949-03-01          132                        14.0                        NaN\n",
       "1949-04-01          129                        -3.0                        NaN\n",
       "1949-05-01          121                        -8.0                        NaN\n",
       "1949-06-01          135                        14.0                        NaN\n",
       "1949-07-01          148                        13.0                        NaN\n",
       "1949-08-01          148                         0.0                        NaN\n",
       "1949-09-01          136                       -12.0                        NaN\n",
       "1949-10-01          119                       -17.0                        NaN\n",
       "1949-11-01          104                       -15.0                        NaN\n",
       "1949-12-01          118                        14.0                        NaN\n",
       "1950-01-01          115                        -3.0                        3.0\n",
       "1950-02-01          126                        11.0                        8.0"
      ]
     },
     "execution_count": 16,
     "metadata": {},
     "output_type": "execute_result"
    }
   ],
   "source": [
    "df.head(14)"
   ]
  },
  {
   "cell_type": "code",
   "execution_count": 17,
   "metadata": {
    "execution": {
     "iopub.execute_input": "2022-04-24T09:45:09.502375Z",
     "iopub.status.busy": "2022-04-24T09:45:09.501644Z",
     "iopub.status.idle": "2022-04-24T09:45:09.519293Z",
     "shell.execute_reply": "2022-04-24T09:45:09.518176Z",
     "shell.execute_reply.started": "2022-04-24T09:45:09.502312Z"
    }
   },
   "outputs": [
    {
     "name": "stdout",
     "output_type": "stream",
     "text": [
      "ADf test statistic : -3.3830207264924805\n",
      "p-value : 0.011551493085514982\n",
      "#lage used : 1\n",
      "number of observation used : 130\n",
      "strong evidence zgainst the null hypothsis(ho), reject the null hypothsis.data has not stationary\n"
     ]
    }
   ],
   "source": [
    "adfuller_test((df['seasonal first difference']).dropna())"
   ]
  },
  {
   "cell_type": "code",
   "execution_count": 18,
   "metadata": {
    "execution": {
     "iopub.execute_input": "2022-04-24T09:45:09.521197Z",
     "iopub.status.busy": "2022-04-24T09:45:09.520879Z",
     "iopub.status.idle": "2022-04-24T09:45:09.695158Z",
     "shell.execute_reply": "2022-04-24T09:45:09.694549Z",
     "shell.execute_reply.started": "2022-04-24T09:45:09.521153Z"
    }
   },
   "outputs": [
    {
     "data": {
      "text/plain": [
       "<AxesSubplot:xlabel='Month'>"
      ]
     },
     "execution_count": 18,
     "metadata": {},
     "output_type": "execute_result"
    },
    {
     "data": {
      "image/png": "[encoded data removed]",
      "text/plain": [
       "<Figure size 432x288 with 1 Axes>"
      ]
     },
     "metadata": {
      "needs_background": "light"
     },
     "output_type": "display_data"
    }
   ],
   "source": [
    "df['seasonal first difference'].plot()"
   ]
  },
  {
   "cell_type": "code",
   "execution_count": 19,
   "metadata": {
    "execution": {
     "iopub.execute_input": "2022-04-24T09:45:09.697243Z",
     "iopub.status.busy": "2022-04-24T09:45:09.696455Z",
     "iopub.status.idle": "2022-04-24T09:45:09.701493Z",
     "shell.execute_reply": "2022-04-24T09:45:09.700557Z",
     "shell.execute_reply.started": "2022-04-24T09:45:09.697185Z"
    }
   },
   "outputs": [
    {
     "data": {
      "image/png": "[encoded data removed]",
      "text/plain": [
       "<Figure size 432x288 with 1 Axes>"
      ]
     },
     "metadata": {
      "needs_background": "light"
     },
     "output_type": "display_data"
    }
   ],
   "source": [
    "from pandas.plotting import autocorrelation_plot\n",
    "autocorrelation_plot(df['#Passengers'])\n",
    "plt.show()"
   ]
  },
  {
   "cell_type": "code",
   "execution_count": 20,
   "metadata": {
    "execution": {
     "iopub.execute_input": "2022-04-24T09:45:09.703477Z",
     "iopub.status.busy": "2022-04-24T09:45:09.702995Z",
     "iopub.status.idle": "2022-04-24T09:45:10.483156Z",
     "shell.execute_reply": "2022-04-24T09:45:10.482213Z",
     "shell.execute_reply.started": "2022-04-24T09:45:09.703424Z"
    }
   },
   "outputs": [],
   "source": [
    "from statsmodels.graphics.tsaplots import plot_acf,plot_pacf\n",
    "import statsmodels.api as sm"
   ]
  },
  {
   "cell_type": "code",
   "execution_count": 21,
   "metadata": {
    "execution": {
     "iopub.execute_input": "2022-04-24T09:45:10.487716Z",
     "iopub.status.busy": "2022-04-24T09:45:10.486591Z",
     "iopub.status.idle": "2022-04-24T09:45:11.162338Z",
     "shell.execute_reply": "2022-04-24T09:45:11.161051Z",
     "shell.execute_reply.started": "2022-04-24T09:45:10.487665Z"
    }
   },
   "outputs": [
    {
     "data": {
      "image/png": "[encoded data removed]",
      "text/plain": [
       "<Figure size 864x576 with 2 Axes>"
      ]
     },
     "metadata": {
      "needs_background": "light"
     },
     "output_type": "display_data"
    }
   ],
   "source": [
    "fig=plt.figure(figsize=(12,8))\n",
    "ax1=fig.add_subplot(211)\n",
    "fig=sm.graphics.tsa.plot_acf(df['seasonal first difference'].iloc[13:],lags=40,ax=ax1)\n",
    "ax2=fig.add_subplot(212)\n",
    "fig=sm.graphics.tsa.plot_pacf(df['seasonal first difference'].iloc[13:],lags=40,ax=ax2)"
   ]
  },
  {
   "cell_type": "code",
   "execution_count": 22,
   "metadata": {
    "execution": {
     "iopub.execute_input": "2022-04-24T09:45:11.164551Z",
     "iopub.status.busy": "2022-04-24T09:45:11.164149Z",
     "iopub.status.idle": "2022-04-24T09:45:11.169907Z",
     "shell.execute_reply": "2022-04-24T09:45:11.168669Z",
     "shell.execute_reply.started": "2022-04-24T09:45:11.164499Z"
    }
   },
   "outputs": [
    {
     "data": {
      "image/png": "[encoded data removed]",
      "text/plain": [
       "<Figure size 432x288 with 1 Axes>"
      ]
     },
     "metadata": {
      "needs_background": "light"
     },
     "output_type": "display_data"
    }
   ],
   "source": [
    "from pandas.plotting import autocorrelation_plot\n",
    "autocorrelation_plot(df[\"#Passengers\"])\n",
    "plt.show()"
   ]
  },
  {
   "cell_type": "code",
   "execution_count": 23,
   "metadata": {
    "execution": {
     "iopub.execute_input": "2022-04-24T09:45:11.172923Z",
     "iopub.status.busy": "2022-04-24T09:45:11.172208Z",
     "iopub.status.idle": "2022-04-24T09:45:11.185880Z",
     "shell.execute_reply": "2022-04-24T09:45:11.184897Z",
     "shell.execute_reply.started": "2022-04-24T09:45:11.172867Z"
    }
   },
   "outputs": [],
   "source": [
    "from statsmodels.tsa.arima_model import ARIMA"
   ]
  },
  {
   "cell_type": "code",
   "execution_count": 24,
   "metadata": {
    "execution": {
     "iopub.execute_input": "2022-04-24T09:49:22.780426Z",
     "iopub.status.busy": "2022-04-24T09:49:22.780065Z",
     "iopub.status.idle": "2022-04-24T09:49:22.809105Z",
     "shell.execute_reply": "2022-04-24T09:49:22.807907Z",
     "shell.execute_reply.started": "2022-04-24T09:49:22.780392Z"
    }
   },
   "outputs": [
    {
     "name": "stderr",
     "output_type": "stream",
     "text": [
      "C:\\Users\\dell\\anaconda3\\lib\\site-packages\\statsmodels\\tsa\\arima_model.py:472: FutureWarning: \n",
      "statsmodels.tsa.arima_model.ARMA and statsmodels.tsa.arima_model.ARIMA have\n",
      "been deprecated in favor of statsmodels.tsa.arima.model.ARIMA (note the .\n",
      "between arima and model) and\n",
      "statsmodels.tsa.SARIMAX. These will be removed after the 0.12 release.\n",
      "\n",
      "statsmodels.tsa.arima.model.ARIMA makes use of the statespace framework and\n",
      "is both well tested and maintained.\n",
      "\n",
      "To silence this warning and continue using ARMA and ARIMA until they are\n",
      "removed, use:\n",
      "\n",
      "import warnings\n",
      "warnings.filterwarnings('ignore', 'statsmodels.tsa.arima_model.ARMA',\n",
      "                        FutureWarning)\n",
      "warnings.filterwarnings('ignore', 'statsmodels.tsa.arima_model.ARIMA',\n",
      "                        FutureWarning)\n",
      "\n",
      "  warnings.warn(ARIMA_DEPRECATION_WARN, FutureWarning)\n",
      "C:\\Users\\dell\\anaconda3\\lib\\site-packages\\statsmodels\\tsa\\base\\tsa_model.py:524: ValueWarning: No frequency information was provided, so inferred frequency MS will be used.\n",
      "  warnings.warn('No frequency information was'\n",
      "C:\\Users\\dell\\anaconda3\\lib\\site-packages\\statsmodels\\tsa\\base\\tsa_model.py:524: ValueWarning: No frequency information was provided, so inferred frequency MS will be used.\n",
      "  warnings.warn('No frequency information was'\n",
      "C:\\Users\\dell\\anaconda3\\lib\\site-packages\\statsmodels\\tsa\\arima_model.py:472: FutureWarning: \n",
      "statsmodels.tsa.arima_model.ARMA and statsmodels.tsa.arima_model.ARIMA have\n",
      "been deprecated in favor of statsmodels.tsa.arima.model.ARIMA (note the .\n",
      "between arima and model) and\n",
      "statsmodels.tsa.SARIMAX. These will be removed after the 0.12 release.\n",
      "\n",
      "statsmodels.tsa.arima.model.ARIMA makes use of the statespace framework and\n",
      "is both well tested and maintained.\n",
      "\n",
      "To silence this warning and continue using ARMA and ARIMA until they are\n",
      "removed, use:\n",
      "\n",
      "import warnings\n",
      "warnings.filterwarnings('ignore', 'statsmodels.tsa.arima_model.ARMA',\n",
      "                        FutureWarning)\n",
      "warnings.filterwarnings('ignore', 'statsmodels.tsa.arima_model.ARIMA',\n",
      "                        FutureWarning)\n",
      "\n",
      "  warnings.warn(ARIMA_DEPRECATION_WARN, FutureWarning)\n"
     ]
    },
    {
     "data": {
      "text/plain": [
       "<statsmodels.tsa.arima_model.ARIMAResultsWrapper at 0x1974fe16490>"
      ]
     },
     "execution_count": 24,
     "metadata": {},
     "output_type": "execute_result"
    }
   ],
   "source": [
    "model=ARIMA(df['#Passengers'],order=(1,1,1))\n",
    "model_fit=model.fit()\n",
    "model_fit"
   ]
  },
  {
   "cell_type": "code",
   "execution_count": 25,
   "metadata": {
    "execution": {
     "iopub.status.busy": "2022-04-24T09:45:11.347710Z",
     "iopub.status.idle": "2022-04-24T09:45:11.348064Z",
     "shell.execute_reply": "2022-04-24T09:45:11.347900Z",
     "shell.execute_reply.started": "2022-04-24T09:45:11.347882Z"
    }
   },
   "outputs": [
    {
     "data": {
      "text/html": [
       "<table class=\"simpletable\">\n",
       "<caption>ARIMA Model Results</caption>\n",
       "<tr>\n",
       "  <th>Dep. Variable:</th>   <td>D.#Passengers</td>  <th>  No. Observations:  </th>    <td>143</td>  \n",
       "</tr>\n",
       "<tr>\n",
       "  <th>Model:</th>          <td>ARIMA(1, 1, 1)</td>  <th>  Log Likelihood     </th> <td>-697.073</td>\n",
       "</tr>\n",
       "<tr>\n",
       "  <th>Method:</th>             <td>css-mle</td>     <th>  S.D. of innovations</th>  <td>31.338</td> \n",
       "</tr>\n",
       "<tr>\n",
       "  <th>Date:</th>          <td>Sun, 08 May 2022</td> <th>  AIC                </th> <td>1402.145</td>\n",
       "</tr>\n",
       "<tr>\n",
       "  <th>Time:</th>              <td>21:44:55</td>     <th>  BIC                </th> <td>1413.997</td>\n",
       "</tr>\n",
       "<tr>\n",
       "  <th>Sample:</th>           <td>02-01-1949</td>    <th>  HQIC               </th> <td>1406.961</td>\n",
       "</tr>\n",
       "<tr>\n",
       "  <th></th>                 <td>- 12-01-1960</td>   <th>                     </th>     <td> </td>   \n",
       "</tr>\n",
       "</table>\n",
       "<table class=\"simpletable\">\n",
       "<tr>\n",
       "           <td></td>              <th>coef</th>     <th>std err</th>      <th>z</th>      <th>P>|z|</th>  <th>[0.025</th>    <th>0.975]</th>  \n",
       "</tr>\n",
       "<tr>\n",
       "  <th>const</th>               <td>    2.6112</td> <td>    0.228</td> <td>   11.435</td> <td> 0.000</td> <td>    2.164</td> <td>    3.059</td>\n",
       "</tr>\n",
       "<tr>\n",
       "  <th>ar.L1.D.#Passengers</th> <td>    0.7400</td> <td>    0.058</td> <td>   12.778</td> <td> 0.000</td> <td>    0.626</td> <td>    0.854</td>\n",
       "</tr>\n",
       "<tr>\n",
       "  <th>ma.L1.D.#Passengers</th> <td>   -1.0000</td> <td>    0.019</td> <td>  -53.425</td> <td> 0.000</td> <td>   -1.037</td> <td>   -0.963</td>\n",
       "</tr>\n",
       "</table>\n",
       "<table class=\"simpletable\">\n",
       "<caption>Roots</caption>\n",
       "<tr>\n",
       "    <td></td>   <th>            Real</th>  <th>         Imaginary</th> <th>         Modulus</th>  <th>        Frequency</th>\n",
       "</tr>\n",
       "<tr>\n",
       "  <th>AR.1</th> <td>           1.3514</td> <td>          +0.0000j</td> <td>           1.3514</td> <td>           0.0000</td>\n",
       "</tr>\n",
       "<tr>\n",
       "  <th>MA.1</th> <td>           1.0000</td> <td>          +0.0000j</td> <td>           1.0000</td> <td>           0.0000</td>\n",
       "</tr>\n",
       "</table>"
      ],
      "text/plain": [
       "<class 'statsmodels.iolib.summary.Summary'>\n",
       "\"\"\"\n",
       "                             ARIMA Model Results                              \n",
       "==============================================================================\n",
       "Dep. Variable:          D.#Passengers   No. Observations:                  143\n",
       "Model:                 ARIMA(1, 1, 1)   Log Likelihood                -697.073\n",
       "Method:                       css-mle   S.D. of innovations             31.338\n",
       "Date:                Sun, 08 May 2022   AIC                           1402.145\n",
       "Time:                        21:44:55   BIC                           1413.997\n",
       "Sample:                    02-01-1949   HQIC                          1406.961\n",
       "                         - 12-01-1960                                         \n",
       "=======================================================================================\n",
       "                          coef    std err          z      P>|z|      [0.025      0.975]\n",
       "---------------------------------------------------------------------------------------\n",
       "const                   2.6112      0.228     11.435      0.000       2.164       3.059\n",
       "ar.L1.D.#Passengers     0.7400      0.058     12.778      0.000       0.626       0.854\n",
       "ma.L1.D.#Passengers    -1.0000      0.019    -53.425      0.000      -1.037      -0.963\n",
       "                                    Roots                                    \n",
       "=============================================================================\n",
       "                  Real          Imaginary           Modulus         Frequency\n",
       "-----------------------------------------------------------------------------\n",
       "AR.1            1.3514           +0.0000j            1.3514            0.0000\n",
       "MA.1            1.0000           +0.0000j            1.0000            0.0000\n",
       "-----------------------------------------------------------------------------\n",
       "\"\"\""
      ]
     },
     "execution_count": 25,
     "metadata": {},
     "output_type": "execute_result"
    }
   ],
   "source": [
    "model_fit.summary()"
   ]
  },
  {
   "cell_type": "code",
   "execution_count": 26,
   "metadata": {},
   "outputs": [
    {
     "data": {
      "text/plain": [
       "<AxesSubplot:xlabel='Month'>"
      ]
     },
     "execution_count": 26,
     "metadata": {},
     "output_type": "execute_result"
    },
    {
     "data": {
      "image/png": "[encoded data removed]",
      "text/plain": [
       "<Figure size 864x576 with 1 Axes>"
      ]
     },
     "metadata": {
      "needs_background": "light"
     },
     "output_type": "display_data"
    }
   ],
   "source": [
    "df[\"forecast1\"]=model_fit.predict(start=90,end=103,dynamic=True)\n",
    "df[[\"#Passengers\",\"forecast1\"]].plot(figsize=(12,8))"
   ]
  },
  {
   "cell_type": "code",
   "execution_count": 27,
   "metadata": {
    "execution": {
     "iopub.status.busy": "2022-04-24T09:45:11.350345Z",
     "iopub.status.idle": "2022-04-24T09:45:11.350917Z",
     "shell.execute_reply": "2022-04-24T09:45:11.350639Z",
     "shell.execute_reply.started": "2022-04-24T09:45:11.350608Z"
    }
   },
   "outputs": [],
   "source": [
    "import statsmodels.api as sm"
   ]
  },
  {
   "cell_type": "code",
   "execution_count": 28,
   "metadata": {
    "execution": {
     "iopub.status.busy": "2022-04-24T09:45:11.352327Z",
     "iopub.status.idle": "2022-04-24T09:45:11.352848Z",
     "shell.execute_reply": "2022-04-24T09:45:11.352601Z",
     "shell.execute_reply.started": "2022-04-24T09:45:11.352573Z"
    }
   },
   "outputs": [
    {
     "name": "stderr",
     "output_type": "stream",
     "text": [
      "C:\\Users\\dell\\anaconda3\\lib\\site-packages\\statsmodels\\tsa\\base\\tsa_model.py:524: ValueWarning: No frequency information was provided, so inferred frequency MS will be used.\n",
      "  warnings.warn('No frequency information was'\n",
      "C:\\Users\\dell\\anaconda3\\lib\\site-packages\\statsmodels\\tsa\\base\\tsa_model.py:524: ValueWarning: No frequency information was provided, so inferred frequency MS will be used.\n",
      "  warnings.warn('No frequency information was'\n"
     ]
    }
   ],
   "source": [
    "model=sm.tsa.statespace.SARIMAX(df[\"#Passengers\"],order=(1,1,1),seasonal_order=(1,1,1,12))\n",
    "result=model.fit()"
   ]
  },
  {
   "cell_type": "code",
   "execution_count": 29,
   "metadata": {
    "execution": {
     "iopub.status.busy": "2022-04-24T09:45:11.355404Z",
     "iopub.status.idle": "2022-04-24T09:45:11.356602Z",
     "shell.execute_reply": "2022-04-24T09:45:11.356301Z",
     "shell.execute_reply.started": "2022-04-24T09:45:11.356264Z"
    }
   },
   "outputs": [
    {
     "data": {
      "text/plain": [
       "<AxesSubplot:xlabel='Month'>"
      ]
     },
     "execution_count": 29,
     "metadata": {},
     "output_type": "execute_result"
    },
    {
     "data": {
      "image/png": "[encoded data removed]",
      "text/plain": [
       "<Figure size 864x576 with 1 Axes>"
      ]
     },
     "metadata": {
      "needs_background": "light"
     },
     "output_type": "display_data"
    }
   ],
   "source": [
    "df[\"forecast\"]=result.predict(start=90,end=103,dynamic=True)\n",
    "df[[\"#Passengers\",\"forecast\"]].plot(figsize=(12,8))"
   ]
  },
  {
   "cell_type": "code",
   "execution_count": 30,
   "metadata": {
    "execution": {
     "iopub.status.busy": "2022-04-24T09:45:11.357804Z",
     "iopub.status.idle": "2022-04-24T09:45:11.358295Z",
     "shell.execute_reply": "2022-04-24T09:45:11.358065Z",
     "shell.execute_reply.started": "2022-04-24T09:45:11.358036Z"
    }
   },
   "outputs": [],
   "source": [
    "from pandas.tseries.offsets import DateOffset\n",
    "future_dates=[df.index[-1]+ DateOffset(\"Month\" ==x) for x in range(0,24)]"
   ]
  },
  {
   "cell_type": "code",
   "execution_count": 31,
   "metadata": {
    "execution": {
     "iopub.status.busy": "2022-04-24T09:45:11.360468Z",
     "iopub.status.idle": "2022-04-24T09:45:11.361638Z",
     "shell.execute_reply": "2022-04-24T09:45:11.361335Z",
     "shell.execute_reply.started": "2022-04-24T09:45:11.361298Z"
    }
   },
   "outputs": [],
   "source": [
    "future_datest_df=pd.DataFrame(index=future_dates[1:],columns=df.columns)"
   ]
  },
  {
   "cell_type": "code",
   "execution_count": 32,
   "metadata": {
    "execution": {
     "iopub.status.busy": "2022-04-24T09:45:11.363476Z",
     "iopub.status.idle": "2022-04-24T09:45:11.364006Z",
     "shell.execute_reply": "2022-04-24T09:45:11.363754Z",
     "shell.execute_reply.started": "2022-04-24T09:45:11.363727Z"
    }
   },
   "outputs": [
    {
     "data": {
      "text/html": [
       "<div>\n",
       "<style scoped>\n",
       "    .dataframe tbody tr th:only-of-type {\n",
       "        vertical-align: middle;\n",
       "    }\n",
       "\n",
       "    .dataframe tbody tr th {\n",
       "        vertical-align: top;\n",
       "    }\n",
       "\n",
       "    .dataframe thead th {\n",
       "        text-align: right;\n",
       "    }\n",
       "</style>\n",
       "<table border=\"1\" class=\"dataframe\">\n",
       "  <thead>\n",
       "    <tr style=\"text-align: right;\">\n",
       "      <th></th>\n",
       "      <th>#Passengers</th>\n",
       "      <th>passenger first difference</th>\n",
       "      <th>seasonal first difference</th>\n",
       "      <th>forecast1</th>\n",
       "      <th>forecast</th>\n",
       "    </tr>\n",
       "  </thead>\n",
       "  <tbody>\n",
       "    <tr>\n",
       "      <th>1960-12-01</th>\n",
       "      <td>NaN</td>\n",
       "      <td>NaN</td>\n",
       "      <td>NaN</td>\n",
       "      <td>NaN</td>\n",
       "      <td>NaN</td>\n",
       "    </tr>\n",
       "    <tr>\n",
       "      <th>1960-12-01</th>\n",
       "      <td>NaN</td>\n",
       "      <td>NaN</td>\n",
       "      <td>NaN</td>\n",
       "      <td>NaN</td>\n",
       "      <td>NaN</td>\n",
       "    </tr>\n",
       "    <tr>\n",
       "      <th>1960-12-01</th>\n",
       "      <td>NaN</td>\n",
       "      <td>NaN</td>\n",
       "      <td>NaN</td>\n",
       "      <td>NaN</td>\n",
       "      <td>NaN</td>\n",
       "    </tr>\n",
       "    <tr>\n",
       "      <th>1960-12-01</th>\n",
       "      <td>NaN</td>\n",
       "      <td>NaN</td>\n",
       "      <td>NaN</td>\n",
       "      <td>NaN</td>\n",
       "      <td>NaN</td>\n",
       "    </tr>\n",
       "    <tr>\n",
       "      <th>1960-12-01</th>\n",
       "      <td>NaN</td>\n",
       "      <td>NaN</td>\n",
       "      <td>NaN</td>\n",
       "      <td>NaN</td>\n",
       "      <td>NaN</td>\n",
       "    </tr>\n",
       "  </tbody>\n",
       "</table>\n",
       "</div>"
      ],
      "text/plain": [
       "           #Passengers passenger first difference seasonal first difference  \\\n",
       "1960-12-01         NaN                        NaN                       NaN   \n",
       "1960-12-01         NaN                        NaN                       NaN   \n",
       "1960-12-01         NaN                        NaN                       NaN   \n",
       "1960-12-01         NaN                        NaN                       NaN   \n",
       "1960-12-01         NaN                        NaN                       NaN   \n",
       "\n",
       "           forecast1 forecast  \n",
       "1960-12-01       NaN      NaN  \n",
       "1960-12-01       NaN      NaN  \n",
       "1960-12-01       NaN      NaN  \n",
       "1960-12-01       NaN      NaN  \n",
       "1960-12-01       NaN      NaN  "
      ]
     },
     "execution_count": 32,
     "metadata": {},
     "output_type": "execute_result"
    }
   ],
   "source": [
    "future_datest_df.tail()"
   ]
  },
  {
   "cell_type": "code",
   "execution_count": 33,
   "metadata": {
    "execution": {
     "iopub.status.busy": "2022-04-24T09:45:11.365576Z",
     "iopub.status.idle": "2022-04-24T09:45:11.366122Z",
     "shell.execute_reply": "2022-04-24T09:45:11.365864Z",
     "shell.execute_reply.started": "2022-04-24T09:45:11.365836Z"
    }
   },
   "outputs": [],
   "source": [
    "future_df=pd.concat([df,future_datest_df])\n"
   ]
  },
  {
   "cell_type": "code",
   "execution_count": 34,
   "metadata": {},
   "outputs": [
    {
     "data": {
      "text/plain": [
       "<AxesSubplot:>"
      ]
     },
     "execution_count": 34,
     "metadata": {},
     "output_type": "execute_result"
    },
    {
     "data": {
      "image/png": "[encoded data removed]",
      "text/plain": [
       "<Figure size 864x576 with 1 Axes>"
      ]
     },
     "metadata": {
      "needs_background": "light"
     },
     "output_type": "display_data"
    }
   ],
   "source": [
    "future_df['forecast']=result.predict(start=104, end=120,dynamic=True)\n",
    "future_df[['#Passengers','forecast']].plot(figsize=(12,8))"
   ]
  },
  {
   "cell_type": "code",
   "execution_count": null,
   "metadata": {},
   "outputs": [],
   "source": []
  }
 ],
 "metadata": {
  "kernelspec": {
   "display_name": "Python 3",
   "language": "python",
   "name": "python3"
  },
  "language_info": {
   "codemirror_mode": {
    "name": "ipython",
    "version": 3
   },
   "file_extension": ".py",
   "mimetype": "text/x-python",
   "name": "python",
   "nbconvert_exporter": "python",
   "pygments_lexer": "ipython3",
   "version": "3.8.8"
  }
 },
 "nbformat": 4,
 "nbformat_minor": 4
}
